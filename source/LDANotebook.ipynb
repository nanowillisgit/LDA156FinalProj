{
 "cells": [
  {
   "cell_type": "markdown",
   "metadata": {},
   "source": [
    "# Linear Discrimnant Analysis Implementations\n",
    "In this notebook we walk through some implementations of linear discriminant analysis on a diverse collection of datasets,\n",
    "each of which are meant to showcase a particular use case or set of use cases for LDA\n",
    "\n",
    "---"
   ]
  },
  {
   "cell_type": "markdown",
   "metadata": {
    "id": "mDobZ6oLvuF6"
   },
   "source": [
    "## LDA to Predict Star Types: Multiclass Classification\n",
    "---\n",
    "In the below cells we will walk through our implementation of Linear Discriminant Analysis on a multiclass classificaion problem. In particular, we will be predicting star types based on attributes of the star such as temperature, luminosity, size, etc."
   ]
  },
  {
   "cell_type": "code",
   "execution_count": 2,
   "metadata": {
    "id": "HqTDxIq7WVz0"
   },
   "outputs": [],
   "source": [
    "import numpy as np\n",
    "import pandas as pd\n",
    "import matplotlib.pyplot as plt\n",
    "%matplotlib inline\n",
    "\n",
    "from sklearn.discriminant_analysis import LinearDiscriminantAnalysis as LDA"
   ]
  },
  {
   "cell_type": "markdown",
   "metadata": {
    "id": "V6VJEu5KX7K6"
   },
   "source": [
    "### Loading data\n",
    "We first load our data and observe its arrangement for preprocessing"
   ]
  },
  {
   "cell_type": "code",
   "execution_count": 3,
   "metadata": {
    "colab": {
     "base_uri": "https://localhost:8080/",
     "height": 392
    },
    "id": "c7boMdtjXlYh",
    "outputId": "479586f8-768a-4126-d3b6-99199df3d7a6"
   },
   "outputs": [
    {
     "data": {
      "text/html": [
       "<div>\n",
       "<style scoped>\n",
       "    .dataframe tbody tr th:only-of-type {\n",
       "        vertical-align: middle;\n",
       "    }\n",
       "\n",
       "    .dataframe tbody tr th {\n",
       "        vertical-align: top;\n",
       "    }\n",
       "\n",
       "    .dataframe thead th {\n",
       "        text-align: right;\n",
       "    }\n",
       "</style>\n",
       "<table border=\"1\" class=\"dataframe\">\n",
       "  <thead>\n",
       "    <tr style=\"text-align: right;\">\n",
       "      <th></th>\n",
       "      <th>Temperature (K)</th>\n",
       "      <th>Luminosity(L/Lo)</th>\n",
       "      <th>Radius(R/Ro)</th>\n",
       "      <th>Absolute magnitude(Mv)</th>\n",
       "      <th>Star color</th>\n",
       "      <th>Spectral Class</th>\n",
       "      <th>Star type</th>\n",
       "    </tr>\n",
       "  </thead>\n",
       "  <tbody>\n",
       "    <tr>\n",
       "      <th>0</th>\n",
       "      <td>3068</td>\n",
       "      <td>0.002400</td>\n",
       "      <td>0.1700</td>\n",
       "      <td>16.12</td>\n",
       "      <td>Red</td>\n",
       "      <td>M</td>\n",
       "      <td>0</td>\n",
       "    </tr>\n",
       "    <tr>\n",
       "      <th>1</th>\n",
       "      <td>3042</td>\n",
       "      <td>0.000500</td>\n",
       "      <td>0.1542</td>\n",
       "      <td>16.60</td>\n",
       "      <td>Red</td>\n",
       "      <td>M</td>\n",
       "      <td>0</td>\n",
       "    </tr>\n",
       "    <tr>\n",
       "      <th>2</th>\n",
       "      <td>2600</td>\n",
       "      <td>0.000300</td>\n",
       "      <td>0.1020</td>\n",
       "      <td>18.70</td>\n",
       "      <td>Red</td>\n",
       "      <td>M</td>\n",
       "      <td>0</td>\n",
       "    </tr>\n",
       "    <tr>\n",
       "      <th>3</th>\n",
       "      <td>2800</td>\n",
       "      <td>0.000200</td>\n",
       "      <td>0.1600</td>\n",
       "      <td>16.65</td>\n",
       "      <td>Red</td>\n",
       "      <td>M</td>\n",
       "      <td>0</td>\n",
       "    </tr>\n",
       "    <tr>\n",
       "      <th>4</th>\n",
       "      <td>1939</td>\n",
       "      <td>0.000138</td>\n",
       "      <td>0.1030</td>\n",
       "      <td>20.06</td>\n",
       "      <td>Red</td>\n",
       "      <td>M</td>\n",
       "      <td>0</td>\n",
       "    </tr>\n",
       "    <tr>\n",
       "      <th>...</th>\n",
       "      <td>...</td>\n",
       "      <td>...</td>\n",
       "      <td>...</td>\n",
       "      <td>...</td>\n",
       "      <td>...</td>\n",
       "      <td>...</td>\n",
       "      <td>...</td>\n",
       "    </tr>\n",
       "    <tr>\n",
       "      <th>235</th>\n",
       "      <td>38940</td>\n",
       "      <td>374830.000000</td>\n",
       "      <td>1356.0000</td>\n",
       "      <td>-9.93</td>\n",
       "      <td>Blue</td>\n",
       "      <td>O</td>\n",
       "      <td>5</td>\n",
       "    </tr>\n",
       "    <tr>\n",
       "      <th>236</th>\n",
       "      <td>30839</td>\n",
       "      <td>834042.000000</td>\n",
       "      <td>1194.0000</td>\n",
       "      <td>-10.63</td>\n",
       "      <td>Blue</td>\n",
       "      <td>O</td>\n",
       "      <td>5</td>\n",
       "    </tr>\n",
       "    <tr>\n",
       "      <th>237</th>\n",
       "      <td>8829</td>\n",
       "      <td>537493.000000</td>\n",
       "      <td>1423.0000</td>\n",
       "      <td>-10.73</td>\n",
       "      <td>White</td>\n",
       "      <td>A</td>\n",
       "      <td>5</td>\n",
       "    </tr>\n",
       "    <tr>\n",
       "      <th>238</th>\n",
       "      <td>9235</td>\n",
       "      <td>404940.000000</td>\n",
       "      <td>1112.0000</td>\n",
       "      <td>-11.23</td>\n",
       "      <td>White</td>\n",
       "      <td>A</td>\n",
       "      <td>5</td>\n",
       "    </tr>\n",
       "    <tr>\n",
       "      <th>239</th>\n",
       "      <td>37882</td>\n",
       "      <td>294903.000000</td>\n",
       "      <td>1783.0000</td>\n",
       "      <td>-7.80</td>\n",
       "      <td>Blue</td>\n",
       "      <td>O</td>\n",
       "      <td>5</td>\n",
       "    </tr>\n",
       "  </tbody>\n",
       "</table>\n",
       "<p>240 rows × 7 columns</p>\n",
       "</div>"
      ],
      "text/plain": [
       "     Temperature (K)  Luminosity(L/Lo)  Radius(R/Ro)  Absolute magnitude(Mv)  \\\n",
       "0               3068          0.002400        0.1700                   16.12   \n",
       "1               3042          0.000500        0.1542                   16.60   \n",
       "2               2600          0.000300        0.1020                   18.70   \n",
       "3               2800          0.000200        0.1600                   16.65   \n",
       "4               1939          0.000138        0.1030                   20.06   \n",
       "..               ...               ...           ...                     ...   \n",
       "235            38940     374830.000000     1356.0000                   -9.93   \n",
       "236            30839     834042.000000     1194.0000                  -10.63   \n",
       "237             8829     537493.000000     1423.0000                  -10.73   \n",
       "238             9235     404940.000000     1112.0000                  -11.23   \n",
       "239            37882     294903.000000     1783.0000                   -7.80   \n",
       "\n",
       "    Star color Spectral Class  Star type  \n",
       "0          Red              M          0  \n",
       "1          Red              M          0  \n",
       "2          Red              M          0  \n",
       "3          Red              M          0  \n",
       "4          Red              M          0  \n",
       "..         ...            ...        ...  \n",
       "235       Blue              O          5  \n",
       "236       Blue              O          5  \n",
       "237      White              A          5  \n",
       "238      White              A          5  \n",
       "239       Blue              O          5  \n",
       "\n",
       "[240 rows x 7 columns]"
      ]
     },
     "execution_count": 3,
     "metadata": {},
     "output_type": "execute_result"
    }
   ],
   "source": [
    "data = pd.read_csv(\"data/star_data.csv\")\n",
    "data"
   ]
  },
  {
   "cell_type": "markdown",
   "metadata": {
    "id": "rPMZABjpZzWC"
   },
   "source": [
    "### Data preprocessing\n",
    "\n",
    "As full disclosure, some editing was done on the source csv to begin with, but these edits were limited to arrangement of columns and grouping certain Star Color fields into one group, namely fixing letter cases and grouping unnecessarily pedantic distinctions of color into one group.\n",
    "\n",
    "\n",
    "We immediately notice a few things:\n",
    "\n",
    "1. The 'Star color' attribute is non-numeric\n",
    "2. The 'Spectral Class' attribute is non-numeric\n",
    "\n",
    "To preprocess the data in order to fix the first two observations, we can simply choose a suitable map of the star color and spectral classes to some integers.\n",
    "\n",
    "We use the following scheme for the Star Color:\n",
    "\n",
    "| Star Color         | Mapped Value |\n",
    "|--------------------|--------------|\n",
    "| Red                | -5           |\n",
    "| Orange-Red         | -4           |\n",
    "| Orange             | -3           |\n",
    "| Pale yellow orange | -2           |\n",
    "| Yellow-White       | -1           |\n",
    "| Whitish            | 0            |\n",
    "| White              | 1            |\n",
    "| Blue-White         | 2            |\n",
    "| Blue               | 3            |\n",
    "\n",
    "We make this choices centered around `'White'` being `'1'`, the redder hues being more negative values, with the bluer hues being more positive.\n",
    "\n",
    "We use the following scheme for the Spectral Class:\n",
    " \n",
    " | Spectral Class | Mapped Value |\n",
    "|----------------|--------------|\n",
    "| O              | 5            |\n",
    "| B              | 4            |\n",
    "| A              | 3            |\n",
    "| F              | 2            |\n",
    "| G              | 1            |\n",
    "| K              | 0            |\n",
    "| M              | -1           |\n",
    "\n",
    "The rationale for these choices is again a simple heuristic that the Sun is classified as a a G type star, hence those stars in the G class will be similar to the Sun, with the redder, dimmer K and M star types being represented with the more negative numbers and the brighter, bluer star types O, B, A, and F being more positive numbers."
   ]
  },
  {
   "cell_type": "code",
   "execution_count": 4,
   "metadata": {
    "id": "OpEPVjb-chox"
   },
   "outputs": [
    {
     "data": {
      "text/html": [
       "<div>\n",
       "<style scoped>\n",
       "    .dataframe tbody tr th:only-of-type {\n",
       "        vertical-align: middle;\n",
       "    }\n",
       "\n",
       "    .dataframe tbody tr th {\n",
       "        vertical-align: top;\n",
       "    }\n",
       "\n",
       "    .dataframe thead th {\n",
       "        text-align: right;\n",
       "    }\n",
       "</style>\n",
       "<table border=\"1\" class=\"dataframe\">\n",
       "  <thead>\n",
       "    <tr style=\"text-align: right;\">\n",
       "      <th></th>\n",
       "      <th>Temperature (K)</th>\n",
       "      <th>Luminosity(L/Lo)</th>\n",
       "      <th>Radius(R/Ro)</th>\n",
       "      <th>Absolute magnitude(Mv)</th>\n",
       "      <th>Star color</th>\n",
       "      <th>Spectral Class</th>\n",
       "      <th>Star type</th>\n",
       "    </tr>\n",
       "  </thead>\n",
       "  <tbody>\n",
       "    <tr>\n",
       "      <th>0</th>\n",
       "      <td>3068</td>\n",
       "      <td>0.002400</td>\n",
       "      <td>0.1700</td>\n",
       "      <td>16.12</td>\n",
       "      <td>-5</td>\n",
       "      <td>-1</td>\n",
       "      <td>0</td>\n",
       "    </tr>\n",
       "    <tr>\n",
       "      <th>1</th>\n",
       "      <td>3042</td>\n",
       "      <td>0.000500</td>\n",
       "      <td>0.1542</td>\n",
       "      <td>16.60</td>\n",
       "      <td>-5</td>\n",
       "      <td>-1</td>\n",
       "      <td>0</td>\n",
       "    </tr>\n",
       "    <tr>\n",
       "      <th>2</th>\n",
       "      <td>2600</td>\n",
       "      <td>0.000300</td>\n",
       "      <td>0.1020</td>\n",
       "      <td>18.70</td>\n",
       "      <td>-5</td>\n",
       "      <td>-1</td>\n",
       "      <td>0</td>\n",
       "    </tr>\n",
       "    <tr>\n",
       "      <th>3</th>\n",
       "      <td>2800</td>\n",
       "      <td>0.000200</td>\n",
       "      <td>0.1600</td>\n",
       "      <td>16.65</td>\n",
       "      <td>-5</td>\n",
       "      <td>-1</td>\n",
       "      <td>0</td>\n",
       "    </tr>\n",
       "    <tr>\n",
       "      <th>4</th>\n",
       "      <td>1939</td>\n",
       "      <td>0.000138</td>\n",
       "      <td>0.1030</td>\n",
       "      <td>20.06</td>\n",
       "      <td>-5</td>\n",
       "      <td>-1</td>\n",
       "      <td>0</td>\n",
       "    </tr>\n",
       "    <tr>\n",
       "      <th>...</th>\n",
       "      <td>...</td>\n",
       "      <td>...</td>\n",
       "      <td>...</td>\n",
       "      <td>...</td>\n",
       "      <td>...</td>\n",
       "      <td>...</td>\n",
       "      <td>...</td>\n",
       "    </tr>\n",
       "    <tr>\n",
       "      <th>235</th>\n",
       "      <td>38940</td>\n",
       "      <td>374830.000000</td>\n",
       "      <td>1356.0000</td>\n",
       "      <td>-9.93</td>\n",
       "      <td>2</td>\n",
       "      <td>5</td>\n",
       "      <td>5</td>\n",
       "    </tr>\n",
       "    <tr>\n",
       "      <th>236</th>\n",
       "      <td>30839</td>\n",
       "      <td>834042.000000</td>\n",
       "      <td>1194.0000</td>\n",
       "      <td>-10.63</td>\n",
       "      <td>2</td>\n",
       "      <td>5</td>\n",
       "      <td>5</td>\n",
       "    </tr>\n",
       "    <tr>\n",
       "      <th>237</th>\n",
       "      <td>8829</td>\n",
       "      <td>537493.000000</td>\n",
       "      <td>1423.0000</td>\n",
       "      <td>-10.73</td>\n",
       "      <td>1</td>\n",
       "      <td>3</td>\n",
       "      <td>5</td>\n",
       "    </tr>\n",
       "    <tr>\n",
       "      <th>238</th>\n",
       "      <td>9235</td>\n",
       "      <td>404940.000000</td>\n",
       "      <td>1112.0000</td>\n",
       "      <td>-11.23</td>\n",
       "      <td>1</td>\n",
       "      <td>3</td>\n",
       "      <td>5</td>\n",
       "    </tr>\n",
       "    <tr>\n",
       "      <th>239</th>\n",
       "      <td>37882</td>\n",
       "      <td>294903.000000</td>\n",
       "      <td>1783.0000</td>\n",
       "      <td>-7.80</td>\n",
       "      <td>2</td>\n",
       "      <td>5</td>\n",
       "      <td>5</td>\n",
       "    </tr>\n",
       "  </tbody>\n",
       "</table>\n",
       "<p>240 rows × 7 columns</p>\n",
       "</div>"
      ],
      "text/plain": [
       "     Temperature (K)  Luminosity(L/Lo)  Radius(R/Ro)  Absolute magnitude(Mv)  \\\n",
       "0               3068          0.002400        0.1700                   16.12   \n",
       "1               3042          0.000500        0.1542                   16.60   \n",
       "2               2600          0.000300        0.1020                   18.70   \n",
       "3               2800          0.000200        0.1600                   16.65   \n",
       "4               1939          0.000138        0.1030                   20.06   \n",
       "..               ...               ...           ...                     ...   \n",
       "235            38940     374830.000000     1356.0000                   -9.93   \n",
       "236            30839     834042.000000     1194.0000                  -10.63   \n",
       "237             8829     537493.000000     1423.0000                  -10.73   \n",
       "238             9235     404940.000000     1112.0000                  -11.23   \n",
       "239            37882     294903.000000     1783.0000                   -7.80   \n",
       "\n",
       "     Star color  Spectral Class  Star type  \n",
       "0            -5              -1          0  \n",
       "1            -5              -1          0  \n",
       "2            -5              -1          0  \n",
       "3            -5              -1          0  \n",
       "4            -5              -1          0  \n",
       "..          ...             ...        ...  \n",
       "235           2               5          5  \n",
       "236           2               5          5  \n",
       "237           1               3          5  \n",
       "238           1               3          5  \n",
       "239           2               5          5  \n",
       "\n",
       "[240 rows x 7 columns]"
      ]
     },
     "execution_count": 4,
     "metadata": {},
     "output_type": "execute_result"
    }
   ],
   "source": [
    "spectra_map = {'O':5, 'B':4, 'A':3, 'F':2, 'G':1, 'K':0, 'M':-1}\n",
    "data.replace(spectra_map,inplace=True)\n",
    "\n",
    "color_map = { 'Red':-5, 'Orange-Red':-4, 'Orange':-3, 'Pale yellow orange':-2, \n",
    "             'Yellow-White':-1, 'Whitish':0, 'White':1,\n",
    "             'Blue-White': 2, 'Blue':2}\n",
    "\n",
    "data.replace(color_map, inplace=True)\n",
    "\n",
    "data"
   ]
  },
  {
   "cell_type": "markdown",
   "metadata": {
    "id": "KLA6LPYEy_8Z"
   },
   "source": [
    "### Implementing the algorithm\n",
    "\n",
    "We rely on `scikitlearns`'s bult in model to implement.\n",
    "\n",
    "To adjust the training data test size, simply adjust the `TRAIN_N` variable to an `int` for actual size of the data, or a `float` between `0` and `1.0` to define a percentage of the full dataset."
   ]
  },
  {
   "cell_type": "code",
   "execution_count": 18,
   "metadata": {
    "id": "Dr0DmCm3zPdJ"
   },
   "outputs": [
    {
     "name": "stdout",
     "output_type": "stream",
     "text": [
      "Model accuracy: 0.990909090909091\n"
     ]
    }
   ],
   "source": [
    "# To split data into train and test sets\n",
    "from sklearn.model_selection import train_test_split\n",
    "\n",
    "# Analyze model accuracy\n",
    "from sklearn.metrics import accuracy_score\n",
    "\n",
    "# Training data set size (value between 7-240)\n",
    "TRAIN_N = 130\n",
    "\n",
    "# Define train and test sets\n",
    "A_train, A_test, b_train, b_test = train_test_split(\n",
    "                              data.loc[:,'Temperature (K)':'Spectral Class']\n",
    "                              , data.loc[:,'Star type'], \n",
    "                                   train_size=TRAIN_N, random_state=0)\n",
    "\n",
    "# Initialize model\n",
    "model = LDA(solver='lsqr')\n",
    "\n",
    "# Fit training set\n",
    "model.fit(A_train,b_train)\n",
    "\n",
    "# Load predicted classes and analyze performace\n",
    "predicted = model.predict(A_test)\n",
    "\n",
    "print(\"Model accuracy:\", accuracy_score(b_test,predicted))"
   ]
  },
  {
   "cell_type": "markdown",
   "metadata": {
    "id": "mgKauSWu9QFV"
   },
   "source": [
    "### Accuracy analysis\n",
    "The above implementation makes use of the `random_state` input in the `train_test_split` function which keeps the split consistent between multiple executions of the code. See the [scikitlearn documentation](https://https://scikit-learn.org/stable/modules/generated/sklearn.model_selection.train_test_split.html) for more information. \n",
    "\n",
    "As seen, this results in an accuracy of 99.09%. For a more robust picture of the LDA model accuracy, we take the median of the model's error over several random choices of training data."
   ]
  },
  {
   "cell_type": "code",
   "execution_count": 9,
   "metadata": {
    "colab": {
     "base_uri": "https://localhost:8080/",
     "height": 253
    },
    "id": "x2sV5HOW-Tx5",
    "outputId": "1816b1fb-b4b7-4b04-a7c1-8398d19dbac2"
   },
   "outputs": [
    {
     "name": "stdout",
     "output_type": "stream",
     "text": [
      "Median model accuracy over 100 iterations: 0.9818181818181818\n"
     ]
    }
   ],
   "source": [
    "ITERATION = 100\n",
    "\n",
    "def LDA_error():\n",
    "  # Define train and test sets\n",
    "  A_train, A_test, b_train, b_test = train_test_split(\n",
    "                              data.loc[:,'Temperature (K)':'Spectral Class']\n",
    "                              , data.loc[:,'Star type'], \n",
    "                                   train_size=TRAIN_N)\n",
    "  # Initialize model\n",
    "  model = LDA()\n",
    "  # Fit training set\n",
    "  model.fit(A_train,b_train)\n",
    "  # Load accuracy\n",
    "  return accuracy_score(b_test , model.predict(A_test))\n",
    "\n",
    "errors = np.asarray([ LDA_error() for i in range(ITERATION) ] )\n",
    "\n",
    "print(f\"Median model accuracy over {len(errors)} iterations:\", np.median(errors))"
   ]
  },
  {
   "cell_type": "markdown",
   "metadata": {
    "id": "dZJODDWiBzgN"
   },
   "source": [
    "## LDA as a Supervised Dimension Reduction Technique\n",
    "\n",
    "Having demonstrated the utility of LDA as a multiclass classifier model, we turn to another one of LDA's applications: dimension reduction.\n",
    "\n",
    "Having already learned about Principal Component Analysis (PCA), we feel the only further motivation of the utility of LDA as a dimension reduction routine is to compare it PCA.\n",
    "\n",
    "The primary difference between LDA and PCA as dimension reduction routines is that LDA is supervised, where the presence of the data's class labels is used to reduce the dimensionality of the data by using only the most discriminative attributes. It does this finding a projection subspace that maximizes the between-class scatter and minimizes the within-class scatter. Intuitively this can be though of as finding a subspace that maximizes the 'spread' between two different class labels while keeping the elements of one class a 'tight' as possible.\n",
    "\n",
    "The use cases of LDA and PCA are also different. LDA is primarily used to reduce dimension in the case that class separability are desirable. On the other hand, PCA's ability to preserve the variance in data means it should be used when variance in data is desired.\n",
    "\n",
    "The dimension of the reduced data is necessarily bounded above by `number_of_classes - 1`. This means multiclass classification problems have several choices of projection subspace dimension, whereas binary classification must be reduced to a one-dimensional subspace."
   ]
  },
  {
   "cell_type": "markdown",
   "metadata": {
    "id": "_9FC-u8XuS5M"
   },
   "source": [
    "## LDA vs. PCA\n",
    "\n",
    "Rather than explain the differences between LDA and PCA at length on a theoretical level, we practically demonstrate their differences by reducing the dimension of the classic wine quality dataset built into scikitlearn.\n",
    "\n",
    "The wine quality dataset is a collection of 178 samples of distinct wines, noting 13(?) different attributes about each wine, that culminate in quality score. The quality scores are grouped into three classes, labelled `0`, `1`, and `2`.\n",
    "\n",
    "In the below cell we run a very simple script of reducing these 13 dimensions to 2, and plotting the results to compare."
   ]
  },
  {
   "cell_type": "code",
   "execution_count": 20,
   "metadata": {
    "colab": {
     "base_uri": "https://localhost:8080/",
     "height": 607
    },
    "id": "7fOrzvQHvev-",
    "outputId": "192b2dd9-8d57-4bb5-d7a2-d8ae12675b30"
   },
   "outputs": [
    {
     "data": {
      "image/png": "[encoded data removed]",
      "text/plain": [
       "<Figure size 1368x720 with 2 Axes>"
      ]
     },
     "metadata": {
      "needs_background": "light"
     },
     "output_type": "display_data"
    }
   ],
   "source": [
    "from sklearn.datasets import load_wine\n",
    "from sklearn.decomposition import PCA\n",
    "\n",
    "# Load and separate data\n",
    "wine_full = load_wine()\n",
    "wine_data = wine_full.data\n",
    "wine_classes = wine_full.target\n",
    "\n",
    "# Reduce dimension with LDA\n",
    "lda_model = LDA(n_components=2)\n",
    "lda_model.fit(wine_data, wine_classes)\n",
    "lda_projected_data = lda_model.transform(wine_data)\n",
    "\n",
    "# Reduce dimension with PCA\n",
    "pca_model = PCA(n_components=2)\n",
    "pca_model.fit(wine_data)\n",
    "pca_projected_data = pca_model.transform(wine_data)\n",
    "\n",
    "lda_classed = [lda_projected_data[wine_classes == i] for i in range(3)]\n",
    "pca_classed = [pca_projected_data[wine_classes == i] for i in range(3)]\n",
    "\n",
    "# Plot our results to compare\n",
    "plt.figure(figsize=(19,10))\n",
    "cols = ['red', 'blue', 'darkorange']\n",
    "plt.subplot(1,2,1)\n",
    "for cls, col in zip(lda_classed, cols):\n",
    "    plt.scatter(cls[:,0],cls[:,1],color=col)\n",
    "\n",
    "plt.title(\"LDA Projection\")\n",
    "\n",
    "plt.subplot(1,2,2)\n",
    "for cls, col in zip(pca_classed, cols):\n",
    "    plt.scatter(cls[:,0],cls[:,1],color=col)\n",
    "\n",
    "plt.title(\"PCA Projection\")\n",
    "plt.show()"
   ]
  },
  {
   "cell_type": "markdown",
   "metadata": {
    "id": "eNjB880kwTzE"
   },
   "source": [
    "As one can see, the supervision of the LDA projection subspace gives it a clear advantage if the goal is to maintain separability between classes.\n",
    "\n",
    "The plots may lead one to believe that PCA is a rather poor method to reduce dimensionality, but it should be remembered that PCA's primary goal is not to preserve class separability (it is unsupervised after all). Instead, PCA is superior in the preservation of **variance**.\n",
    "\n",
    "In sum, if one is to think of dimension reduction as a means to reduce dimension while preserving 'fidelity', the usefulness of PCA and LDA will be determined by how one defines 'fidelity'. If data's distinction as being of a particular class is the desired fidelity, then LDA is appropriate, but if the data's uniqueness from the other data (i.e. variance) is a priority, then PCA is appropriate."
   ]
  },
  {
   "cell_type": "code",
   "execution_count": 51,
   "metadata": {
    "id": "nlg33k5GO7zk"
   },
   "outputs": [],
   "source": [
    "# We will only need these libraries in addition to those\n",
    "### imported at the beginning\n",
    "import os\n",
    "import glob\n",
    "from random import sample\n",
    "\n",
    "# We'll need OpenCV to process the images\n",
    "import cv2"
   ]
  },
  {
   "cell_type": "markdown",
   "metadata": {
    "id": "8oWmWLi3Z_75"
   },
   "source": [
    "Now we import the data and process it into a workable form for the scikitlearn implementation."
   ]
  },
  {
   "cell_type": "code",
   "execution_count": 58,
   "metadata": {
    "id": "S3DzzlvHaSHB"
   },
   "outputs": [],
   "source": [
    "train_path_normal = 'data/chest_xray/chest_xray/train/NORMAL/'\n",
    "train_path_pneum = 'data/chest_xray/chest_xray/train/PNEUMONIA/'\n",
    "\n",
    "normal_ims = [ (im, 0) for im in glob.glob(train_path_normal +  '*.jpeg') ]\n",
    "pneum_ims = [ (im, 1) for im in glob.glob(train_path_pneum + '*.jpeg') ]\n",
    "\n",
    "normal_imvecs = []\n",
    "pneum_imvecs = []\n",
    "\n",
    "# Set desired number of images from train set\n",
    "N = 750\n",
    "\n",
    "normal_choices = sample(range(0,len(normal_ims)), N)\n",
    "pneum_choices = sample(range(0,len(pneum_ims)), N)\n",
    "\n",
    "# Set image resize dimensions\n",
    "dim = 220\n",
    "\n",
    "for i in normal_choices:\n",
    "    pix_vec = cv2.imread( normal_ims[i][0])\n",
    "\n",
    "    pix_vec.resize((dim,dim))\n",
    "    pix_vec = np.append(np.reshape(pix_vec, dim*dim),0)\n",
    "\n",
    "    normal_imvecs.append(pix_vec)\n",
    "\n",
    "\n",
    "for i in pneum_choices:\n",
    "    pix_vec = cv2.imread( pneum_ims[i][0])\n",
    "\n",
    "    pix_vec.resize((dim,dim))\n",
    "    pix_vec = np.append(np.reshape(pix_vec, dim*dim),1)\n",
    "\n",
    "    pneum_imvecs.append(pix_vec)\n",
    "\n",
    "immat = np.concatenate( (np.array(normal_imvecs), np.array(pneum_imvecs)) )\n",
    "\n",
    "# Set numpy see for reproducibility\n",
    "np.random.seed(20)\n",
    "np.random.shuffle(immat)\n",
    "\n",
    "data = immat[:,:(dim**2)]\n",
    "classes = immat[:,(dim**2)]"
   ]
  },
  {
   "cell_type": "markdown",
   "metadata": {
    "id": "Vn3CE_Uaae4D"
   },
   "source": [
    "Here we actually implement the LDA function"
   ]
  },
  {
   "cell_type": "code",
   "execution_count": 59,
   "metadata": {
    "id": "pffXwkf_aic0"
   },
   "outputs": [],
   "source": [
    "# n_components is bounded above by 1 as we are doing a binary classification\n",
    "model = LDA(n_components=1)\n",
    "\n",
    "reduced = model.fit_transform(data,classes)"
   ]
  },
  {
   "cell_type": "markdown",
   "metadata": {
    "id": "esF_iuHma0zn"
   },
   "source": [
    "Now we plot the results of the reduction.\n",
    "\n",
    "If LDA is to succeed in its goal, we should see relatively good separation between the two classes, despite being projected down to such \n",
    "low dimensional space."
   ]
  },
  {
   "cell_type": "code",
   "execution_count": 60,
   "metadata": {
    "id": "ICGmzEQBa3gt"
   },
   "outputs": [
    {
     "data": {
      "image/png": "[encoded data removed]",
      "text/plain": [
       "<Figure size 432x288 with 1 Axes>"
      ]
     },
     "metadata": {
      "needs_background": "light"
     },
     "output_type": "display_data"
    }
   ],
   "source": [
    "colors = [ 'red', 'blue' ]\n",
    "\n",
    "zeros = reduced[classes == 0]\n",
    "ones = reduced[classes == 1]\n",
    "\n",
    "zeros = np.reshape(zeros, len(zeros))\n",
    "ones = np.reshape(ones, len(ones))\n",
    "\n",
    "plt.scatter(zeros, np.zeros(len(zeros)), color='red')\n",
    "plt.scatter(ones, np.zeros(len(ones)), color='cyan')\n",
    "\n",
    "plt.title(\"Post-reduction train data\")\n",
    "plt.show()"
   ]
  },
  {
   "cell_type": "markdown",
   "metadata": {
    "id": "qMloBGkIbMib"
   },
   "source": [
    "# After dimension reduction\n",
    "At this point we have defined a projection subspace to reduce the dimension of the training data. To make this subspace useful, we can use the projection subspace to reduce the dimensionality of the test data, and then we may apply any choice of classification model on the reduced data.\n",
    "\n",
    "The process of the below cell is identical to the above cells, except we apply `model.transform()` on the test data using the model from the previous cells."
   ]
  },
  {
   "cell_type": "code",
   "execution_count": null,
   "metadata": {
    "id": "JbgMQ622b9AA"
   },
   "outputs": [],
   "source": [
    "test_path_normal = 'data/chest_xray/chest_xray/test/NORMAL/'\n",
    "test_path_pneum = 'data/chest_xray/chest_xray/test/PNEUMONIA/'\n",
    "\n",
    "normal_ims_test = [ (im, 0) for im in glob.glob(test_path_normal +  '*.jpeg') ]\n",
    "pneum_ims_test = [ (im, 1) for im in glob.glob(test_path_pneum + '*.jpeg') ]\n",
    "\n",
    "normal_imvecs_test = []\n",
    "pneum_imvecs_test = []\n",
    "\n",
    "# Set desired number of images from train set\n",
    "test_N = 30\n",
    "\n",
    "normal_choices_test = sample(range(0,len(normal_ims_test)), test_N)\n",
    "pneum_choices_test = sample(range(0,len(pneum_ims_test)), test_N)\n",
    "\n",
    "for i in normal_choices_test:\n",
    "    pix_vec = cv2.imread( normal_ims_test[i][0])\n",
    "\n",
    "    pix_vec.resize((dim,dim))\n",
    "    pix_vec = np.append(np.reshape(pix_vec, dim*dim),0)\n",
    "\n",
    "    normal_imvecs_test.append(pix_vec)\n",
    "\n",
    "\n",
    "for i in pneum_choices_test:\n",
    "    pix_vec = cv2.imread( pneum_ims_test[i][0])\n",
    "\n",
    "    pix_vec.resize((dim,dim))\n",
    "    pix_vec = np.append(np.reshape(pix_vec, dim*dim), 1)\n",
    "\n",
    "    pneum_imvecs_test.append(pix_vec)\n",
    "\n",
    "immat_test = np.concatenate( (np.array(normal_imvecs_test), np.array(pneum_imvecs_test)) )\n",
    "np.random.shuffle(immat_test)\n",
    "test_attr = immat_test[:,:(dim**2)]\n",
    "test_classes = immat_test[:,(dim**2)]\n",
    "\n",
    "# Set numpy see for reproducibility\n",
    "np.random.shuffle(immat_test)\n",
    "\n",
    "model.fit(data,classes)\n",
    "\n",
    "test_reduced = model.transform(test_attr)\n",
    "\n",
    "colors = [ 'red', 'blue' ]\n",
    "\n",
    "zeros = test_reduced[test_classes == 0]\n",
    "ones = test_reduced[test_classes == 1]\n",
    "\n",
    "test_zeros = np.reshape(zeros, len(zeros))\n",
    "test_ones = np.reshape(ones, len(ones))\n",
    "\n",
    "plt.scatter(zeros, np.zeros(len(zeros)), color='red')\n",
    "plt.scatter(ones, np.zeros(len(ones)), color='cyan')\n",
    "\n",
    "plt.title(\"Post-reduction test data to train-fitted model\")\n",
    "plt.show()"
   ]
  }
 ],
 "metadata": {
  "colab": {
   "collapsed_sections": null,
   "name": "LDA Math 156 Final Project",
   "provenance": null
  },
  "kernelspec": {
   "display_name": "Python 3",
   "language": "python",
   "name": "python3"
  },
  "language_info": {
   "codemirror_mode": {
    "name": "ipython",
    "version": 3
   },
   "file_extension": ".py",
   "mimetype": "text/x-python",
   "name": "python",
   "nbconvert_exporter": "python",
   "pygments_lexer": "ipython3",
   "version": "3.8.6"
  },
  "name": "LDANotebook.ipynb"
 },
 "nbformat": 4,
 "nbformat_minor": 1
}
