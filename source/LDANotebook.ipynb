{
 "cells": [
  {
   "cell_type": "markdown",
   "metadata": {
    "collapsed": false,
    "id": "mDobZ6oLvuF6"
   },
   "source": [
    "LDA to Predict Star Types: Multiclass Classification\n",
    "---\n",
    "In the below cells we will walk through our implementation of Linear Discriminant Analysis on a multiclass classificaion problem. In particular, we will be predicting star types based on attributes of the star such as temperature, luminosity, size, etc."
   ]
  },
  {
   "cell_type": "code",
   "execution_count": 48,
   "metadata": {
    "collapsed": false,
    "id": "HqTDxIq7WVz0"
   },
   "outputs": [],
   "source": [
    "import numpy as np\n",
    "import pandas as pd\n",
    "import matplotlib.pyplot as plt\n",
    "%matplotlib inline\n",
    "\n",
    "from sklearn.discriminant_analysis import LinearDiscriminantAnalysis as LDA"
   ]
  },
  {
   "cell_type": "markdown",
   "metadata": {
    "collapsed": false,
    "id": "V6VJEu5KX7K6"
   },
   "source": [
    "## Loading data\n",
    "We first load our data and observe its arrangement for preprocessing"
   ]
  },
  {
   "cell_type": "code",
   "execution_count": null,
   "metadata": {
    "colab": {
     "base_uri": "https://localhost:8080/",
     "height": 392
    },
    "collapsed": false,
    "id": "c7boMdtjXlYh",
    "outputId": "479586f8-768a-4126-d3b6-99199df3d7a6"
   },
   "outputs": [],
   "source": [
    "data = pd.read_csv(\"data/star_data.csv\")\n",
    "data"
   ]
  },
  {
   "cell_type": "markdown",
   "metadata": {
    "collapsed": false,
    "id": "rPMZABjpZzWC"
   },
   "source": [
    "## Data preprocessing\n",
    "\n",
    "As full disclosure, some editing was done on the source csv to begin with, but these edits were limited to arrangement of columns and grouping certain Star Color fields into one group, namely fixing letter cases and grouping unnecessarily pedantic distinctions of color into one group.\n",
    "\n",
    "\n",
    "We immediately notice a few things:\n",
    "\n",
    "1. The 'Star color' attribute is non-numeric\n",
    "2. The 'Spectral Class' attribute is non-numeric\n",
    "\n",
    "To preprocess the data in order to fix the first two observations, we can simply choose a suitable map of the star color and spectral classes to some integers.\n",
    "\n",
    "We use the following scheme for the Star Color:\n",
    "\n",
    "| Star Color         | Mapped Value |\n",
    "|--------------------|--------------|\n",
    "| Red                | -5           |\n",
    "| Orange-Red         | -4           |\n",
    "| Orange             | -3           |\n",
    "| Pale yellow orange | -2           |\n",
    "| Yellow-White       | -1           |\n",
    "| Whitish            | 0            |\n",
    "| White              | 1            |\n",
    "| Blue-White         | 2            |\n",
    "| Blue               | 3            |\n",
    "\n",
    "We make this choices centered around `'White'` being `'1'`, the redder hues being more negative values, with the bluer hues being more positive.\n",
    "\n",
    "We use the following scheme for the Spectral Class:\n",
    " \n",
    " | Spectral Class | Mapped Value |\n",
    "|----------------|--------------|\n",
    "| O              | 5            |\n",
    "| B              | 4            |\n",
    "| A              | 3            |\n",
    "| F              | 2            |\n",
    "| G              | 1            |\n",
    "| K              | 0            |\n",
    "| M              | -1           |\n",
    "\n",
    "The rationale for these choices is again a simple heuristic that the Sun is classified as a a G type star, hence those stars in the G class will be similar to the Sun, with the redder, dimmer K and M star types being represented with the more negative numbers and the brighter, bluer star types O, B, A, and F being more positive numbers.\n",
    "\n",
    "One thing to keep in mind when choosing the values to map the strings to is "
   ]
  },
  {
   "cell_type": "code",
   "execution_count": null,
   "metadata": {
    "collapsed": false,
    "id": "OpEPVjb-chox"
   },
   "outputs": [],
   "source": [
    "spectra_map = {'O':5, 'B':4, 'A':3, 'F':2, 'G':1, 'K':0, 'M':-1}\n",
    "data.replace(spectra_map,inplace=True)\n",
    "\n",
    "# Reclassify star class 0 -> -1\n",
    "#data.replace(0, 1, inplace=True)\n",
    "\n",
    "color_map = { 'Red':-5, 'Orange-Red':-4, 'Orange':-3, 'Pale yellow orange':-2, \n",
    "             'Yellow-White':-1, 'Whitish':0, 'White':1,\n",
    "             'Blue-White': 2, 'Blue':2}\n",
    "\n",
    "data.replace(color_map, inplace=True)\n",
    "\n",
    "data"
   ]
  },
  {
   "cell_type": "markdown",
   "metadata": {
    "collapsed": false,
    "id": "KLA6LPYEy_8Z"
   },
   "source": [
    "## Implementing the algorithm\n",
    "\n",
    "We rely on `scikitlearns`'s bult in model to implement.\n",
    "\n",
    "To adjust the training data test size, simply adjust the `train_n` variable to an `int` for actual size of the data, or a `float` between `0` and `1.0` to define a percentage of the full dataset."
   ]
  },
  {
   "cell_type": "code",
   "execution_count": null,
   "metadata": {
    "collapsed": false,
    "id": "Dr0DmCm3zPdJ"
   },
   "outputs": [],
   "source": [
    "# Function to split data into train and test sets\n",
    "from sklearn.model_selection import train_test_split\n",
    "# Tools to analyze model accuracy\n",
    "from sklearn.metrics import accuracy_score\n",
    "\n",
    "# Optional confusion matrix dependency\n",
    "from sklearn.metrics import confusion_matrix\n",
    "\n",
    "\n",
    "# Training data set size\n",
    "train_n = 130\n",
    "\n",
    "# Define train and test sets\n",
    "A_train, A_test, b_train, b_test = train_test_split(\n",
    "                              data.loc[:,'Temperature (K)':'Spectral Class']\n",
    "                              , data.loc[:,'Star type'], \n",
    "                                   train_size=train_n, random_state=0)\n",
    "\n",
    "# Initialize model\n",
    "model = LDA(solver='lsqr')\n",
    "\n",
    "# Fit training set\n",
    "model.fit(A_train,b_train)\n",
    "\n",
    "# Load predicted classes and analyze performace\n",
    "predicted = model.predict(A_test)\n",
    "#conf_mat = confusion_matrix(b_test,predicted)\n",
    "\n",
    "#print(conf_mat)\n",
    "print(\"Model accuracy:\", accuracy_score(b_test,predicted))"
   ]
  },
  {
   "cell_type": "markdown",
   "metadata": {
    "collapsed": false,
    "id": "mgKauSWu9QFV"
   },
   "source": [
    "## Accuracy analysis\n",
    "The above implementation makes use of the `random_state` input in the `train_test_split` function which keeps the split consistent between multiple executions of the code. See the [scikitlearn documentation](https://https://scikit-learn.org/stable/modules/generated/sklearn.model_selection.train_test_split.html) for more information. \n",
    "\n",
    "As seen, this results in an accuracy of 99.09%. For a more robust picture of the LDA model accuracy, we take the median of the model's error over several random choices of training data."
   ]
  },
  {
   "cell_type": "code",
   "execution_count": null,
   "metadata": {
    "colab": {
     "base_uri": "https://localhost:8080/",
     "height": 253
    },
    "collapsed": false,
    "id": "x2sV5HOW-Tx5",
    "outputId": "1816b1fb-b4b7-4b04-a7c1-8398d19dbac2"
   },
   "outputs": [],
   "source": [
    "iterations = 100\n",
    "\n",
    "def LDA_error():\n",
    "  # Define train and test sets\n",
    "  A_train, A_test, b_train, b_test = train_test_split(\n",
    "                              data.loc[:,'Temperature (K)':'Spectral Class']\n",
    "                              , data.loc[:,'Star type'], \n",
    "                                   train_size=train_n)\n",
    "  # Initialize model\n",
    "  model = LDA()\n",
    "  # Fit training set\n",
    "  model.fit(A_train,b_train)\n",
    "  # Load accuracy\n",
    "  return accuracy_score(b_test , model.predict(A_test))\n",
    "\n",
    "errors = np.asarray([ LDA_error() for i in range(iterations) ] )\n",
    "\n",
    "print(f\"Median model accuracy over {len(errors)} iterations:\", np.median(errors))"
   ]
  },
  {
   "cell_type": "markdown",
   "metadata": {
    "collapsed": false,
    "id": "dZJODDWiBzgN"
   },
   "source": [
    "# LDA as a Supervised Dimension Reduction Technique\n",
    "\n",
    "Having demonstrated the utility of LDA as a multiclass classifier model, we turn to another one of LDA's applications: dimension reduction.\n",
    "\n",
    "Having already learned about Principal Component Analysis (PCA), we feel the only further motivation of the utility of LDA as a dimension reduction routine is to compare it PCA.\n",
    "\n",
    "The primary difference between LDA and PCA as dimension reduction routines is that LDA is supervised, where the presence of the data's class labels is used to reduce the dimensionality of the data by using only the most discriminative attributes. It does this finding a projection subspace that maximizes the between-class scatter and minimizes the within-class scatter. Intuitively this can be though of as finding a subspace that maximizes the 'spread' between two different class labels while keeping the elements of one class a 'tight' as possible.\n",
    "\n",
    "The use cases of LDA and PCA are also different. LDA is primarily used to reduce dimension in the case that class separability are desirable. On the other hand, PCA's ability to preserve the variance in data means it should be used when variance in data is desired.\n",
    "\n",
    "The dimension of the reduced data is necessarily bounded above by `number_of_classes - 1`. In the case of our implementation, this means we will reduce the dimension from full square images to a dimension of 1(!). This is perhaps an extreme application, but instructive nevertheless. "
   ]
  },
  {
   "cell_type": "markdown",
   "metadata": {
    "collapsed": false,
    "id": "_9FC-u8XuS5M"
   },
   "source": [
    "## LDA vs. PCA\n",
    "\n",
    "Rather than explain the differences between LDA and PCA on a theoretical level, we practically demonstrate their differences by reducing the dimension of the classic wine quality dataset built into scikitlearn.\n",
    "\n",
    "The wine quality dataset is a collection of 178 samples of distinct wines, noting 13(?) different attributes about each wine, that culminate in quality score. The quality scores are grouped into three classes, labelled `0`, `1`, and `2`.\n",
    "\n",
    "In the below cell we run a very simple script of reducing these 13 dimensions to 2, and plotting the results to compare."
   ]
  },
  {
   "cell_type": "code",
   "execution_count": null,
   "metadata": {
    "colab": {
     "base_uri": "https://localhost:8080/",
     "height": 607
    },
    "collapsed": false,
    "id": "7fOrzvQHvev-",
    "outputId": "192b2dd9-8d57-4bb5-d7a2-d8ae12675b30"
   },
   "outputs": [],
   "source": [
    "from sklearn.datasets import load_wine\n",
    "from sklearn.discriminant_analysis import LinearDiscriminantAnalysis as LDA\n",
    "from sklearn.decomposition import PCA\n",
    "\n",
    "import matplotlib.pyplot as plt\n",
    "%matplotlib inline\n",
    "\n",
    "# Load and separate data\n",
    "wine_full = load_wine()\n",
    "wine_data = wine_full.data\n",
    "wine_classes = wine_full.target\n",
    "\n",
    "# Reduce dimension with LDA\n",
    "lda_model = LDA(n_components=2)\n",
    "lda_model.fit(wine_data, wine_classes)\n",
    "lda_projected_data = lda_model.transform(wine_data)\n",
    "\n",
    "# Reduce dimension with PCA\n",
    "pca_model = PCA(n_components=2)\n",
    "pca_model.fit(wine_data)\n",
    "pca_projected_data = pca_model.transform(wine_data)\n",
    "\n",
    "lda_classed = [lda_projected_data[wine_classes == i] for i in range(3)]\n",
    "pca_classed = [pca_projected_data[wine_classes == i] for i in range(3)]\n",
    "\n",
    "# Plot our results to compare\n",
    "plt.figure(figsize=(19,10))\n",
    "cols = ['red', 'blue', 'darkorange']\n",
    "plt.subplot(1,2,1)\n",
    "for cls, col in zip(lda_classed, cols):\n",
    "    plt.scatter(cls[:,0],cls[:,1],color=col)\n",
    "\n",
    "plt.title(\"LDA Projection\")\n",
    "\n",
    "plt.subplot(1,2,2)\n",
    "for cls, col in zip(pca_classed, cols):\n",
    "    plt.scatter(cls[:,0],cls[:,1],color=col)\n",
    "\n",
    "plt.title(\"PCA Projection\")\n",
    "plt.show()\n"
   ]
  },
  {
   "cell_type": "markdown",
   "metadata": {
    "collapsed": false,
    "id": "eNjB880kwTzE"
   },
   "source": [
    "As one can see, the supervision of the LDA projection subspace gives it a clear advantage if the goal is to maintain separability between classes.\n",
    "\n",
    "The plots may lead one to believe that PCA is a rather poor method to reduce dimensionality, but it should be remembered that PCA's primary goal is not to preserve class separability (it is unsupervised after all). Instead, PCA is superior in the preservation of **variance**.\n",
    "\n",
    "In sum, if one is to think of dimension reduction as a means to reduce dimension while preserving 'fidelity', the usefulness of PCA and LDA will be determined by how one defines 'fidelity'. If data's distinction as being of a particular class is the desired fidelity, then LDA is appropriate, but if the data's uniqueness from the other data (i.e. variance) is a priority, then PCA is appropriate."
   ]
  },
  {
   "cell_type": "code",
   "execution_count": 51,
   "metadata": {
    "collapsed": false,
    "id": "nlg33k5GO7zk"
   },
   "outputs": [],
   "source": [
    "# We will only need these libraries in addition to those\n",
    "### imported at the beginning\n",
    "import os\n",
    "import glob\n",
    "from random import sample\n",
    "\n",
    "# We'll need OpenCV to process the images\n",
    "import cv2"
   ]
  },
  {
   "cell_type": "markdown",
   "metadata": {
    "collapsed": false,
    "id": "8oWmWLi3Z_75"
   },
   "source": [
    "Now we import the data and process it into a workable form for the scikitlearn implementation."
   ]
  },
  {
   "cell_type": "code",
   "execution_count": 58,
   "metadata": {
    "collapsed": false,
    "id": "S3DzzlvHaSHB"
   },
   "outputs": [],
   "source": [
    "train_path_normal = 'data/chest_xray/chest_xray/train/NORMAL/'\n",
    "train_path_pneum = 'data/chest_xray/chest_xray/train/PNEUMONIA/'\n",
    "\n",
    "normal_ims = [ (im, 0) for im in glob.glob(train_path_normal +  '*.jpeg') ]\n",
    "pneum_ims = [ (im, 1) for im in glob.glob(train_path_pneum + '*.jpeg') ]\n",
    "\n",
    "normal_imvecs = []\n",
    "pneum_imvecs = []\n",
    "\n",
    "# Set desired number of images from train set\n",
    "N = 750\n",
    "\n",
    "normal_choices = sample(range(0,len(normal_ims)), N)\n",
    "pneum_choices = sample(range(0,len(pneum_ims)), N)\n",
    "\n",
    "# Set image resize dimensions\n",
    "dim = 220\n",
    "\n",
    "for i in normal_choices:\n",
    "    pix_vec = cv2.imread( normal_ims[i][0])\n",
    "\n",
    "    pix_vec.resize((dim,dim))\n",
    "    pix_vec = np.append(np.reshape(pix_vec, dim*dim),0)\n",
    "\n",
    "    normal_imvecs.append(pix_vec)\n",
    "\n",
    "\n",
    "for i in pneum_choices:\n",
    "    pix_vec = cv2.imread( pneum_ims[i][0])\n",
    "\n",
    "    pix_vec.resize((dim,dim))\n",
    "    pix_vec = np.append(np.reshape(pix_vec, dim*dim),1)\n",
    "\n",
    "    pneum_imvecs.append(pix_vec)\n",
    "\n",
    "immat = np.concatenate( (np.array(normal_imvecs), np.array(pneum_imvecs)) )\n",
    "\n",
    "# Set numpy see for reproducibility\n",
    "np.random.seed(20)\n",
    "np.random.shuffle(immat)\n",
    "\n",
    "data = immat[:,:(dim**2)]\n",
    "classes = immat[:,(dim**2)]"
   ]
  },
  {
   "cell_type": "markdown",
   "metadata": {
    "collapsed": false,
    "id": "Vn3CE_Uaae4D"
   },
   "source": [
    "Here we actually implement the LDA function"
   ]
  },
  {
   "cell_type": "code",
   "execution_count": 59,
   "metadata": {
    "collapsed": false,
    "id": "pffXwkf_aic0"
   },
   "outputs": [],
   "source": [
    "# n_components is bounded above by 1 as we are doing a binary classification\n",
    "model = LDA(n_components=1)\n",
    "\n",
    "reduced = model.fit_transform(data,classes)"
   ]
  },
  {
   "cell_type": "markdown",
   "metadata": {
    "collapsed": false,
    "id": "esF_iuHma0zn"
   },
   "source": [
    "Now we plot the results of the reduction.\n",
    "\n",
    "If LDA is to succeed in its goal, we should see relatively good separation between the two classes, despite being projected down to such \n",
    "low dimensional space."
   ]
  },
  {
   "cell_type": "code",
   "execution_count": 60,
   "metadata": {
    "collapsed": false,
    "id": "ICGmzEQBa3gt"
   },
   "outputs": [
    {
     "data": {
      "image/png": "[encoded data removed]",
      "text/plain": [
       "<Figure size 432x288 with 1 Axes>"
      ]
     },
     "metadata": {
      "needs_background": "light"
     },
     "output_type": "display_data"
    }
   ],
   "source": [
    "colors = [ 'red', 'blue' ]\n",
    "\n",
    "zeros = reduced[classes == 0]\n",
    "ones = reduced[classes == 1]\n",
    "\n",
    "zeros = np.reshape(zeros, len(zeros))\n",
    "ones = np.reshape(ones, len(ones))\n",
    "\n",
    "plt.scatter(zeros, np.zeros(len(zeros)), color='red')\n",
    "plt.scatter(ones, np.zeros(len(ones)), color='cyan')\n",
    "\n",
    "plt.title(\"Post-reduction train data\")\n",
    "plt.show()"
   ]
  },
  {
   "cell_type": "markdown",
   "metadata": {
    "collapsed": false,
    "id": "qMloBGkIbMib"
   },
   "source": [
    "# After dimension reduction\n",
    "At this point we have defined a projection subspace to reduce the dimension of the training data. To make this subspace useful, we can use the projection subspace to reduce the dimensionality of the test data, and then we may apply any choice of classification model on the reduced data.\n",
    "\n",
    "The process of the below cell is identical to the above cells, except we apply `model.transform()` on the test data using the model from the previous cells."
   ]
  },
  {
   "cell_type": "code",
   "execution_count": null,
   "metadata": {
    "collapsed": false,
    "id": "JbgMQ622b9AA"
   },
   "outputs": [],
   "source": [
    "test_path_normal = 'data/chest_xray/chest_xray/test/NORMAL/'\n",
    "test_path_pneum = 'data/chest_xray/chest_xray/test/PNEUMONIA/'\n",
    "\n",
    "normal_ims_test = [ (im, 0) for im in glob.glob(test_path_normal +  '*.jpeg') ]\n",
    "pneum_ims_test = [ (im, 1) for im in glob.glob(test_path_pneum + '*.jpeg') ]\n",
    "\n",
    "normal_imvecs_test = []\n",
    "pneum_imvecs_test = []\n",
    "\n",
    "# Set desired number of images from train set\n",
    "test_N = 30\n",
    "\n",
    "normal_choices_test = sample(range(0,len(normal_ims_test)), test_N)\n",
    "pneum_choices_test = sample(range(0,len(pneum_ims_test)), test_N)\n",
    "\n",
    "for i in normal_choices_test:\n",
    "    pix_vec = cv2.imread( normal_ims_test[i][0])\n",
    "\n",
    "    pix_vec.resize((dim,dim))\n",
    "    pix_vec = np.append(np.reshape(pix_vec, dim*dim),0)\n",
    "\n",
    "    normal_imvecs_test.append(pix_vec)\n",
    "\n",
    "\n",
    "for i in pneum_choices_test:\n",
    "    pix_vec = cv2.imread( pneum_ims_test[i][0])\n",
    "\n",
    "    pix_vec.resize((dim,dim))\n",
    "    pix_vec = np.append(np.reshape(pix_vec, dim*dim), 1)\n",
    "\n",
    "    pneum_imvecs_test.append(pix_vec)\n",
    "\n",
    "immat_test = np.concatenate( (np.array(normal_imvecs_test), np.array(pneum_imvecs_test)) )\n",
    "np.random.shuffle(immat_test)\n",
    "test_attr = immat_test[:,:(dim**2)]\n",
    "test_classes = immat_test[:,(dim**2)]\n",
    "\n",
    "# Set numpy see for reproducibility\n",
    "np.random.shuffle(immat_test)\n",
    "\n",
    "model.fit(data,classes)\n",
    "\n",
    "test_reduced = model.transform(test_attr)\n",
    "\n",
    "colors = [ 'red', 'blue' ]\n",
    "\n",
    "zeros = test_reduced[test_classes == 0]\n",
    "ones = test_reduced[test_classes == 1]\n",
    "\n",
    "test_zeros = np.reshape(zeros, len(zeros))\n",
    "test_ones = np.reshape(ones, len(ones))\n",
    "\n",
    "plt.scatter(zeros, np.zeros(len(zeros)), color='red')\n",
    "plt.scatter(ones, np.zeros(len(ones)), color='cyan')\n",
    "\n",
    "plt.title(\"Post-reduction test data to train-fitted model\")\n",
    "plt.show()"
   ]
  }
 ],
 "metadata": {
  "colab": {
   "collapsed_sections": null,
   "name": "LDA Math 156 Final Project",
   "provenance": null
  },
  "kernelspec": {
   "argv": [
    "/usr/bin/python3",
    "-m",
    "ipykernel_launcher",
    "-f",
    "{connection_file}"
   ],
   "display_name": "Python 3",
   "env": null,
   "interrupt_mode": "signal",
   "language": "python",
   "metadata": null,
   "name": "python3"
  },
  "name": "LDANotebook.ipynb"
 },
 "nbformat": 4,
 "nbformat_minor": 0
}
